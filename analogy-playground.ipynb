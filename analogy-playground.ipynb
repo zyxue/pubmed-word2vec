{
 "cells": [
  {
   "cell_type": "code",
   "execution_count": 1,
   "metadata": {
    "collapsed": true
   },
   "outputs": [],
   "source": [
    "import os\n",
    "import sys\n",
    "import re\n",
    "import datetime\n",
    "import tempfile\n",
    "from collections import Counter\n",
    "import functools\n",
    "import pickle\n",
    "import multiprocessing\n",
    "\n",
    "import seaborn as sns\n",
    "\n",
    "import numpy as np\n",
    "import scipy.stats as stats\n",
    "from scipy.cluster.hierarchy import dendrogram, linkage, fcluster, fclusterdata\n",
    "from scipy.spatial.distance import cdist, pdist\n",
    "from scipy import interp\n",
    "import pandas as pd\n",
    "pd.set_option('display.max_columns', 250)\n",
    "# Don't cut off long string\n",
    "# http://stackoverflow.com/questions/26277757/pandas-to-html-truncates-string-contents\n",
    "pd.set_option('display.max_colwidth', -1)\n",
    "\n",
    "import matplotlib\n",
    "import matplotlib.pyplot as plt\n",
    "import matplotlib.cm as cm\n",
    "import matplotlib.patheffects as PathEffects\n",
    "from mpl_toolkits.mplot3d import Axes3D\n",
    "matplotlib.style.use('classic')\n",
    "%matplotlib inline\n",
    "matplotlib.rcParams['figure.figsize'] = (8, 4.5)\n",
    "\n",
    "from IPython.display import display\n",
    "\n",
    "# for auto-reloading external modules\n",
    "# see http://stackoverflow.com/questions/1907993/autoreload-of-modules-in-ipython\n",
    "%load_ext autoreload\n",
    "%autoreload 2\n",
    "\n",
    "from sklearn.preprocessing import LabelEncoder, OneHotEncoder, StandardScaler, label_binarize\n",
    "from sklearn.decomposition import TruncatedSVD\n",
    "from sklearn.manifold import TSNE\n",
    "from sklearn.decomposition import PCA\n",
    "\n",
    "from sklearn.model_selection import StratifiedKFold, train_test_split, cross_val_score\n",
    "from sklearn.tree import DecisionTreeClassifier, export_graphviz\n",
    "from sklearn.ensemble import RandomForestClassifier\n",
    "from sklearn.ensemble import AdaBoostClassifier\n",
    "from sklearn.ensemble import GradientBoostingClassifier\n",
    "from sklearn.linear_model import LogisticRegression\n",
    "from sklearn import metrics\n",
    "from sklearn import svm\n",
    "from sklearn.neighbors import KNeighborsClassifier\n",
    "kappa_scorer = metrics.make_scorer(metrics.cohen_kappa_score)\n",
    "from sklearn.feature_selection import SelectKBest, chi2\n",
    "\n",
    "from sklearn.cluster import KMeans"
   ]
  },
  {
   "cell_type": "code",
   "execution_count": 2,
   "metadata": {
    "collapsed": true
   },
   "outputs": [],
   "source": [
    "import word2vec"
   ]
  },
  {
   "cell_type": "code",
   "execution_count": 3,
   "metadata": {
    "collapsed": false
   },
   "outputs": [
    {
     "name": "stdout",
     "output_type": "stream",
     "text": [
      "CPU times: user 43.7 s, sys: 12.8 s, total: 56.4 s\n",
      "Wall time: 58.2 s\n"
     ]
    }
   ],
   "source": [
    "%time model = word2vec.load('./PubMed-w2v.bin')"
   ]
  },
  {
   "cell_type": "code",
   "execution_count": 4,
   "metadata": {
    "collapsed": false
   },
   "outputs": [
    {
     "data": {
      "text/plain": [
       "array(['</s>', '.', 'of', ..., 'SEDT(AK)', 'Phenidon',\n",
       "       '[14C]poly(I)-poly(C)'], \n",
       "      dtype='<U78')"
      ]
     },
     "execution_count": 4,
     "metadata": {},
     "output_type": "execute_result"
    }
   ],
   "source": [
    "model.vocab"
   ]
  },
  {
   "cell_type": "code",
   "execution_count": 5,
   "metadata": {
    "collapsed": false
   },
   "outputs": [
    {
     "data": {
      "text/plain": [
       "(2351706,)"
      ]
     },
     "execution_count": 5,
     "metadata": {},
     "output_type": "execute_result"
    }
   ],
   "source": [
    "model.vocab.shape"
   ]
  },
  {
   "cell_type": "code",
   "execution_count": 6,
   "metadata": {
    "collapsed": false
   },
   "outputs": [
    {
     "data": {
      "text/plain": [
       "(2351706, 200)"
      ]
     },
     "execution_count": 6,
     "metadata": {},
     "output_type": "execute_result"
    }
   ],
   "source": [
    "model.vectors.shape"
   ]
  },
  {
   "cell_type": "code",
   "execution_count": 7,
   "metadata": {
    "collapsed": false
   },
   "outputs": [
    {
     "data": {
      "text/plain": [
       "(200,)"
      ]
     },
     "execution_count": 7,
     "metadata": {},
     "output_type": "execute_result"
    }
   ],
   "source": [
    "model['TP53'].shape"
   ]
  },
  {
   "cell_type": "code",
   "execution_count": 27,
   "metadata": {
    "collapsed": true
   },
   "outputs": [],
   "source": [
    "model.analogy?"
   ]
  },
  {
   "cell_type": "code",
   "execution_count": 42,
   "metadata": {
    "collapsed": false
   },
   "outputs": [],
   "source": [
    "# oncogene + tumour suppressor - tumour suppressor == oncogene\n",
    "# indexes, metrics = model.analogy(['ABL1', 'TP53'], neg=['BRCA2'])"
   ]
  },
  {
   "cell_type": "code",
   "execution_count": 55,
   "metadata": {
    "collapsed": true
   },
   "outputs": [],
   "source": [
    "indexes, metrics = model.analogy(['glioblastoma', 'colon'], neg=['brain'], n=20)"
   ]
  },
  {
   "cell_type": "code",
   "execution_count": 56,
   "metadata": {
    "collapsed": false
   },
   "outputs": [
    {
     "data": {
      "text/plain": [
       "[('DLD-1', 0.37927617740198083),\n",
       " ('HCT-116', 0.3792706339846247),\n",
       " ('SGC-7901', 0.3773898390364688),\n",
       " ('HT29', 0.3757760668976403),\n",
       " ('SW620', 0.3702126103301677),\n",
       " ('SW480', 0.3698747569687583),\n",
       " ('NCI-N87', 0.3697115758542201),\n",
       " ('TMK-1', 0.3672855981571268),\n",
       " ('HCT-15', 0.3643113081923575),\n",
       " ('HT-29', 0.36186997431842427),\n",
       " ('HCT116', 0.36033603706163),\n",
       " ('HCC2998', 0.3595243623015524),\n",
       " ('RKO', 0.35786854578089594),\n",
       " ('WiDr', 0.3572897604084304),\n",
       " ('MGC-803', 0.35647309692111595),\n",
       " ('SW-480', 0.35511936292346524),\n",
       " ('DLD1', 0.35511841035857244),\n",
       " ('LoVo', 0.35487659317909503),\n",
       " ('Colo205', 0.35452625027635315),\n",
       " ('SW1116', 0.3541507517255692)]"
      ]
     },
     "execution_count": 56,
     "metadata": {},
     "output_type": "execute_result"
    }
   ],
   "source": [
    "model.generate_response(indexes, metrics).tolist()"
   ]
  },
  {
   "cell_type": "code",
   "execution_count": 29,
   "metadata": {
    "collapsed": false
   },
   "outputs": [],
   "source": [
    "# model['breast'] + model['BRCA1'] - model['prostate']"
   ]
  },
  {
   "cell_type": "code",
   "execution_count": 57,
   "metadata": {
    "collapsed": false
   },
   "outputs": [
    {
     "data": {
      "text/plain": [
       "array(['k-ras', 'CDKN2A', 'KRAS2', 'K-RAS', 'RB1', 'Tp53', 'KRAS',\n",
       "       'PIK3CA', 'K-ras', 'CTNNB1', 'FBXW7', 'CDKN2A/p16', 'BRAF', 'HRAS',\n",
       "       'ARID1A', 'DPC4', 'IDH1/IDH2', 'p16/CDKN2A', 'CDKN2', 'CDH1',\n",
       "       'NRAS', 'KRAS/BRAF', 'PTEN/MMAC1', 'CHEK2', 'p53-gene', 'TP73',\n",
       "       'IDH1/2', 'BRAF/NRAS', 'SMAD4', 'AXIN1'], \n",
       "      dtype='<U78')"
      ]
     },
     "execution_count": 57,
     "metadata": {},
     "output_type": "execute_result"
    }
   ],
   "source": [
    "indexes, metrics = model.cosine('TP53', n=30)\n",
    "model.vocab[indexes]"
   ]
  }
 ],
 "metadata": {
  "anaconda-cloud": {},
  "kernelspec": {
   "display_name": "Python [default]",
   "language": "python",
   "name": "python3"
  },
  "language_info": {
   "codemirror_mode": {
    "name": "ipython",
    "version": 3
   },
   "file_extension": ".py",
   "mimetype": "text/x-python",
   "name": "python",
   "nbconvert_exporter": "python",
   "pygments_lexer": "ipython3",
   "version": "3.5.3"
  }
 },
 "nbformat": 4,
 "nbformat_minor": 2
}
